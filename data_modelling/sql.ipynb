{
    "cells": [
        {
            "cell_type": "code",
            "execution_count": null,
            "metadata": {},
            "outputs": [],
            "source": [
                "from data_aggregator import run_aggregation_query\n",
                "\n",
                "DB_FILE = \"/Users/sam/Documents/codes/inner_circle/assignment/database.db\"\n",
                "aggregated_df = run_aggregation_query(DB_FILE=DB_FILE)"
            ]
        },
        {
            "cell_type": "code",
            "execution_count": null,
            "metadata": {},
            "outputs": [],
            "source": [
                "aggregated_df"
            ]
        },
        {
            "cell_type": "code",
            "execution_count": 6,
            "metadata": {},
            "outputs": [
                {
                    "data": {
                        "text/html": [
                            "<div>\n",
                            "<style scoped>\n",
                            "    .dataframe tbody tr th:only-of-type {\n",
                            "        vertical-align: middle;\n",
                            "    }\n",
                            "\n",
                            "    .dataframe tbody tr th {\n",
                            "        vertical-align: top;\n",
                            "    }\n",
                            "\n",
                            "    .dataframe thead th {\n",
                            "        text-align: right;\n",
                            "    }\n",
                            "</style>\n",
                            "<table border=\"1\" class=\"dataframe\">\n",
                            "  <thead>\n",
                            "    <tr style=\"text-align: right;\">\n",
                            "      <th></th>\n",
                            "      <th>percentage_of_likes</th>\n",
                            "      <th>percentage_of_dislikes</th>\n",
                            "    </tr>\n",
                            "    <tr>\n",
                            "      <th>gender</th>\n",
                            "      <th></th>\n",
                            "      <th></th>\n",
                            "    </tr>\n",
                            "  </thead>\n",
                            "  <tbody>\n",
                            "    <tr>\n",
                            "      <th>Female</th>\n",
                            "      <td>9.434388</td>\n",
                            "      <td>89.985887</td>\n",
                            "    </tr>\n",
                            "    <tr>\n",
                            "      <th>Male</th>\n",
                            "      <td>48.949282</td>\n",
                            "      <td>50.478980</td>\n",
                            "    </tr>\n",
                            "  </tbody>\n",
                            "</table>\n",
                            "</div>"
                        ],
                        "text/plain": [
                            "        percentage_of_likes  percentage_of_dislikes\n",
                            "gender                                             \n",
                            "Female             9.434388               89.985887\n",
                            "Male              48.949282               50.478980"
                        ]
                    },
                    "execution_count": 6,
                    "metadata": {},
                    "output_type": "execute_result"
                }
            ],
            "source": [
                "# Calculate average percentage of likes and dislikes grouped by gender\n",
                "gender_avg = aggregated_df.groupby('gender')[['percentage_of_likes', 'percentage_of_dislikes']].mean()\n",
                "\n",
                "gender_avg\n",
                "\n",
                "# # Display the results in a more readable format\n",
                "# print(\"\\nSummary:\")\n",
                "# for gender in gender_avg.index:\n",
                "#     likes_avg = gender_avg.loc[gender, 'percentage_of_likes']\n",
                "#     dislikes_avg = gender_avg.loc[gender, 'percentage_of_dislikes']\n",
                "#     print(f\"{gender}: Average likes = {likes_avg:.2f}%, Average dislikes = {dislikes_avg:.2f}%\")"
            ]
        },
        {
            "cell_type": "code",
            "execution_count": null,
            "metadata": {},
            "outputs": [],
            "source": []
        }
    ],
    "metadata": {
        "kernelspec": {
            "display_name": ".venv",
            "language": "python",
            "name": "python3"
        },
        "language_info": {
            "codemirror_mode": {
                "name": "ipython",
                "version": 3
            },
            "file_extension": ".py",
            "mimetype": "text/x-python",
            "name": "python",
            "nbconvert_exporter": "python",
            "pygments_lexer": "ipython3",
            "version": "3.12.10"
        }
    },
    "nbformat": 4,
    "nbformat_minor": 2
}
